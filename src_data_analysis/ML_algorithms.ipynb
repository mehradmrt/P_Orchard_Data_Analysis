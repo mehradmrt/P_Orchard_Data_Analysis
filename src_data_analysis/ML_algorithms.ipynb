{
 "cells": [
  {
   "cell_type": "code",
   "execution_count": 1003,
   "metadata": {},
   "outputs": [
    {
     "name": "stdout",
     "output_type": "stream",
     "text": [
      "<class 'pandas.core.frame.DataFrame'>\n",
      "Int64Index: 126 entries, 0 to 125\n",
      "Data columns (total 12 columns):\n",
      " #   Column        Non-Null Count  Dtype  \n",
      "---  ------        --------------  -----  \n",
      " 0   tree_idx      126 non-null    int64  \n",
      " 1   test_number   126 non-null    object \n",
      " 2   leaf_temp     126 non-null    float64\n",
      " 3   Ta            126 non-null    float64\n",
      " 4   cwsi          126 non-null    float64\n",
      " 5   NDVI median   126 non-null    float64\n",
      " 6   GNDVI median  126 non-null    float64\n",
      " 7   OSAVI median  126 non-null    float64\n",
      " 8   LCI median    126 non-null    float64\n",
      " 9   NDRE median   126 non-null    float64\n",
      " 10  SWP           126 non-null    float64\n",
      " 11  SWPc          126 non-null    object \n",
      "dtypes: float64(9), int64(1), object(2)\n",
      "memory usage: 12.8+ KB\n"
     ]
    },
    {
     "data": {
      "text/html": [
       "<div>\n",
       "<style scoped>\n",
       "    .dataframe tbody tr th:only-of-type {\n",
       "        vertical-align: middle;\n",
       "    }\n",
       "\n",
       "    .dataframe tbody tr th {\n",
       "        vertical-align: top;\n",
       "    }\n",
       "\n",
       "    .dataframe thead th {\n",
       "        text-align: right;\n",
       "    }\n",
       "</style>\n",
       "<table border=\"1\" class=\"dataframe\">\n",
       "  <thead>\n",
       "    <tr style=\"text-align: right;\">\n",
       "      <th></th>\n",
       "      <th>leaf_temp</th>\n",
       "      <th>Ta</th>\n",
       "      <th>cwsi</th>\n",
       "      <th>NDVI median</th>\n",
       "      <th>GNDVI median</th>\n",
       "      <th>OSAVI median</th>\n",
       "      <th>LCI median</th>\n",
       "      <th>NDRE median</th>\n",
       "      <th>SWP</th>\n",
       "    </tr>\n",
       "  </thead>\n",
       "  <tbody>\n",
       "    <tr>\n",
       "      <th>0</th>\n",
       "      <td>28.0</td>\n",
       "      <td>36.33</td>\n",
       "      <td>0.137931</td>\n",
       "      <td>0.651247</td>\n",
       "      <td>0.579653</td>\n",
       "      <td>0.311467</td>\n",
       "      <td>0.224935</td>\n",
       "      <td>0.157902</td>\n",
       "      <td>6.7</td>\n",
       "    </tr>\n",
       "    <tr>\n",
       "      <th>1</th>\n",
       "      <td>26.0</td>\n",
       "      <td>36.33</td>\n",
       "      <td>0.000000</td>\n",
       "      <td>0.727823</td>\n",
       "      <td>0.628124</td>\n",
       "      <td>0.339363</td>\n",
       "      <td>0.256596</td>\n",
       "      <td>0.174475</td>\n",
       "      <td>8.7</td>\n",
       "    </tr>\n",
       "    <tr>\n",
       "      <th>2</th>\n",
       "      <td>26.7</td>\n",
       "      <td>36.33</td>\n",
       "      <td>0.048276</td>\n",
       "      <td>0.731136</td>\n",
       "      <td>0.633427</td>\n",
       "      <td>0.348855</td>\n",
       "      <td>0.272154</td>\n",
       "      <td>0.187457</td>\n",
       "      <td>6.0</td>\n",
       "    </tr>\n",
       "    <tr>\n",
       "      <th>3</th>\n",
       "      <td>29.3</td>\n",
       "      <td>36.33</td>\n",
       "      <td>0.227586</td>\n",
       "      <td>0.705379</td>\n",
       "      <td>0.588299</td>\n",
       "      <td>0.368542</td>\n",
       "      <td>0.211414</td>\n",
       "      <td>0.142261</td>\n",
       "      <td>5.7</td>\n",
       "    </tr>\n",
       "    <tr>\n",
       "      <th>4</th>\n",
       "      <td>29.0</td>\n",
       "      <td>36.33</td>\n",
       "      <td>0.206897</td>\n",
       "      <td>0.745715</td>\n",
       "      <td>0.642535</td>\n",
       "      <td>0.393172</td>\n",
       "      <td>0.275420</td>\n",
       "      <td>0.187919</td>\n",
       "      <td>5.2</td>\n",
       "    </tr>\n",
       "    <tr>\n",
       "      <th>...</th>\n",
       "      <td>...</td>\n",
       "      <td>...</td>\n",
       "      <td>...</td>\n",
       "      <td>...</td>\n",
       "      <td>...</td>\n",
       "      <td>...</td>\n",
       "      <td>...</td>\n",
       "      <td>...</td>\n",
       "      <td>...</td>\n",
       "    </tr>\n",
       "    <tr>\n",
       "      <th>121</th>\n",
       "      <td>32.3</td>\n",
       "      <td>39.09</td>\n",
       "      <td>0.434483</td>\n",
       "      <td>0.651964</td>\n",
       "      <td>0.578798</td>\n",
       "      <td>0.306616</td>\n",
       "      <td>0.242141</td>\n",
       "      <td>0.172492</td>\n",
       "      <td>13.2</td>\n",
       "    </tr>\n",
       "    <tr>\n",
       "      <th>122</th>\n",
       "      <td>36.4</td>\n",
       "      <td>39.09</td>\n",
       "      <td>0.717241</td>\n",
       "      <td>0.613730</td>\n",
       "      <td>0.552401</td>\n",
       "      <td>0.294611</td>\n",
       "      <td>0.227958</td>\n",
       "      <td>0.164832</td>\n",
       "      <td>11.3</td>\n",
       "    </tr>\n",
       "    <tr>\n",
       "      <th>123</th>\n",
       "      <td>33.7</td>\n",
       "      <td>39.09</td>\n",
       "      <td>0.531034</td>\n",
       "      <td>0.675721</td>\n",
       "      <td>0.584211</td>\n",
       "      <td>0.332427</td>\n",
       "      <td>0.246689</td>\n",
       "      <td>0.173681</td>\n",
       "      <td>9.8</td>\n",
       "    </tr>\n",
       "    <tr>\n",
       "      <th>124</th>\n",
       "      <td>33.9</td>\n",
       "      <td>39.09</td>\n",
       "      <td>0.544828</td>\n",
       "      <td>0.667222</td>\n",
       "      <td>0.585880</td>\n",
       "      <td>0.325666</td>\n",
       "      <td>0.247613</td>\n",
       "      <td>0.174950</td>\n",
       "      <td>8.5</td>\n",
       "    </tr>\n",
       "    <tr>\n",
       "      <th>125</th>\n",
       "      <td>30.0</td>\n",
       "      <td>39.09</td>\n",
       "      <td>0.275862</td>\n",
       "      <td>0.692350</td>\n",
       "      <td>0.602217</td>\n",
       "      <td>0.333862</td>\n",
       "      <td>0.263517</td>\n",
       "      <td>0.185723</td>\n",
       "      <td>8.3</td>\n",
       "    </tr>\n",
       "  </tbody>\n",
       "</table>\n",
       "<p>126 rows × 9 columns</p>\n",
       "</div>"
      ],
      "text/plain": [
       "     leaf_temp     Ta      cwsi  NDVI median  GNDVI median  OSAVI median  \\\n",
       "0         28.0  36.33  0.137931     0.651247      0.579653      0.311467   \n",
       "1         26.0  36.33  0.000000     0.727823      0.628124      0.339363   \n",
       "2         26.7  36.33  0.048276     0.731136      0.633427      0.348855   \n",
       "3         29.3  36.33  0.227586     0.705379      0.588299      0.368542   \n",
       "4         29.0  36.33  0.206897     0.745715      0.642535      0.393172   \n",
       "..         ...    ...       ...          ...           ...           ...   \n",
       "121       32.3  39.09  0.434483     0.651964      0.578798      0.306616   \n",
       "122       36.4  39.09  0.717241     0.613730      0.552401      0.294611   \n",
       "123       33.7  39.09  0.531034     0.675721      0.584211      0.332427   \n",
       "124       33.9  39.09  0.544828     0.667222      0.585880      0.325666   \n",
       "125       30.0  39.09  0.275862     0.692350      0.602217      0.333862   \n",
       "\n",
       "     LCI median  NDRE median   SWP  \n",
       "0      0.224935     0.157902   6.7  \n",
       "1      0.256596     0.174475   8.7  \n",
       "2      0.272154     0.187457   6.0  \n",
       "3      0.211414     0.142261   5.7  \n",
       "4      0.275420     0.187919   5.2  \n",
       "..          ...          ...   ...  \n",
       "121    0.242141     0.172492  13.2  \n",
       "122    0.227958     0.164832  11.3  \n",
       "123    0.246689     0.173681   9.8  \n",
       "124    0.247613     0.174950   8.5  \n",
       "125    0.263517     0.185723   8.3  \n",
       "\n",
       "[126 rows x 9 columns]"
      ]
     },
     "execution_count": 1003,
     "metadata": {},
     "output_type": "execute_result"
    }
   ],
   "source": [
    "import pandas as pd\n",
    "import numpy as np\n",
    "import matplotlib.pyplot as plt\n",
    "import seaborn as sns\n",
    "from sklearn.ensemble import RandomForestClassifier\n",
    "from sklearn.svm import SVC\n",
    "from sklearn.naive_bayes import GaussianNB\n",
    "from sklearn import tree\n",
    "from sklearn.neighbors import KNeighborsClassifier\n",
    "from sklearn.neural_network import MLPClassifier\n",
    "from sklearn.metrics import confusion_matrix, classification_report, accuracy_score\n",
    "from sklearn.preprocessing import StandardScaler, LabelEncoder\n",
    "from sklearn.model_selection import train_test_split, cross_val_score, GridSearchCV\n",
    "\n",
    "main = pd.read_json('../results_cleaned/mdf_all.json')\n",
    "main.info()\n",
    "mdf = main.iloc[:,2:-1]\n",
    "mdf\n",
    "# mdf.isnull().sum()"
   ]
  },
  {
   "cell_type": "code",
   "execution_count": 1004,
   "metadata": {},
   "outputs": [
    {
     "name": "stdout",
     "output_type": "stream",
     "text": [
      "SWP             1.000000\n",
      "Ta              0.388690\n",
      "leaf_temp       0.353805\n",
      "cwsi            0.353805\n",
      "NDRE median     0.282550\n",
      "LCI median      0.143585\n",
      "GNDVI median   -0.320667\n",
      "NDVI median    -0.449016\n",
      "OSAVI median   -0.508368\n",
      "Name: SWP, dtype: float64 \n",
      "\n"
     ]
    }
   ],
   "source": [
    "corrs = mdf.corr()\n",
    "print(corrs['SWP'].sort_values(ascending=False),'\\n')"
   ]
  },
  {
   "cell_type": "code",
   "execution_count": 1005,
   "metadata": {},
   "outputs": [
    {
     "data": {
      "text/plain": [
       "<AxesSubplot:>"
      ]
     },
     "execution_count": 1005,
     "metadata": {},
     "output_type": "execute_result"
    },
    {
     "data": {
      "image/png": "[encoded data removed]",
      "text/plain": [
       "<Figure size 500x500 with 2 Axes>"
      ]
     },
     "metadata": {},
     "output_type": "display_data"
    }
   ],
   "source": [
    "f , ax = plt.subplots(figsize=(5,5))\n",
    "\n",
    "sns.heatmap(abs(corrs),square=True,vmax=1)"
   ]
  },
  {
   "cell_type": "code",
   "execution_count": 1006,
   "metadata": {},
   "outputs": [
    {
     "data": {
      "text/plain": [
       "<AxesSubplot:>"
      ]
     },
     "execution_count": 1006,
     "metadata": {},
     "output_type": "execute_result"
    },
    {
     "data": {
      "image/png": "[encoded data removed]",
      "text/plain": [
       "<Figure size 500x500 with 2 Axes>"
      ]
     },
     "metadata": {},
     "output_type": "display_data"
    }
   ],
   "source": [
    "mdf = mdf.drop(['LCI median','GNDVI median', 'leaf_temp','OSAVI median'], axis=1)\n",
    "# mdf = mdf.drop(['leaf_temp'], axis=1)\n",
    "corrs = mdf.corr()\n",
    "f , ax = plt.subplots(figsize=(5,5))\n",
    "sns.heatmap(abs(corrs),square=True,vmax=1)"
   ]
  },
  {
   "cell_type": "code",
   "execution_count": 1007,
   "metadata": {},
   "outputs": [
    {
     "data": {
      "text/plain": [
       "array(['WL-2', 'WL-3', 'WL-1'], dtype=object)"
      ]
     },
     "execution_count": 1007,
     "metadata": {},
     "output_type": "execute_result"
    }
   ],
   "source": [
    "main['SWPc'].unique()"
   ]
  },
  {
   "cell_type": "code",
   "execution_count": 1008,
   "metadata": {},
   "outputs": [
    {
     "data": {
      "text/plain": [
       "array(['WL-1', 'WL-2', 'WL-3'], dtype=object)"
      ]
     },
     "execution_count": 1008,
     "metadata": {},
     "output_type": "execute_result"
    }
   ],
   "source": [
    "correct_label= np.array(['WL-1', 'WL-2', 'WL-3'], dtype=object)\n",
    "correct_label\n"
   ]
  },
  {
   "cell_type": "code",
   "execution_count": 1009,
   "metadata": {},
   "outputs": [
    {
     "data": {
      "text/plain": [
       "0"
      ]
     },
     "execution_count": 1009,
     "metadata": {},
     "output_type": "execute_result"
    }
   ],
   "source": [
    "label_quality = LabelEncoder()\n",
    "main['SWPc'] = label_quality.fit_transform(main['SWPc'])\n",
    "main['SWPc'].isnull().sum()"
   ]
  },
  {
   "cell_type": "code",
   "execution_count": 1010,
   "metadata": {},
   "outputs": [
    {
     "data": {
      "text/plain": [
       "0"
      ]
     },
     "execution_count": 1010,
     "metadata": {},
     "output_type": "execute_result"
    }
   ],
   "source": [
    "bins = (2,8,20)\n",
    "group_names = ['WL1','WL2']\n",
    "main['SWPc2'] = pd.cut(main['SWP'], bins=bins , labels=group_names)\n",
    "main['SWPc2'] = label_quality.fit_transform(main['SWPc2'])\n",
    "main['SWPc2'].isnull().sum()"
   ]
  },
  {
   "cell_type": "code",
   "execution_count": 1011,
   "metadata": {},
   "outputs": [
    {
     "data": {
      "text/html": [
       "<div>\n",
       "<style scoped>\n",
       "    .dataframe tbody tr th:only-of-type {\n",
       "        vertical-align: middle;\n",
       "    }\n",
       "\n",
       "    .dataframe tbody tr th {\n",
       "        vertical-align: top;\n",
       "    }\n",
       "\n",
       "    .dataframe thead th {\n",
       "        text-align: right;\n",
       "    }\n",
       "</style>\n",
       "<table border=\"1\" class=\"dataframe\">\n",
       "  <thead>\n",
       "    <tr style=\"text-align: right;\">\n",
       "      <th></th>\n",
       "      <th>tree_idx</th>\n",
       "      <th>test_number</th>\n",
       "      <th>leaf_temp</th>\n",
       "      <th>Ta</th>\n",
       "      <th>cwsi</th>\n",
       "      <th>NDVI median</th>\n",
       "      <th>GNDVI median</th>\n",
       "      <th>OSAVI median</th>\n",
       "      <th>LCI median</th>\n",
       "      <th>NDRE median</th>\n",
       "      <th>SWP</th>\n",
       "      <th>SWPc</th>\n",
       "      <th>SWPc2</th>\n",
       "    </tr>\n",
       "  </thead>\n",
       "  <tbody>\n",
       "    <tr>\n",
       "      <th>0</th>\n",
       "      <td>1</td>\n",
       "      <td>T1</td>\n",
       "      <td>28.0</td>\n",
       "      <td>36.33</td>\n",
       "      <td>0.137931</td>\n",
       "      <td>0.651247</td>\n",
       "      <td>0.579653</td>\n",
       "      <td>0.311467</td>\n",
       "      <td>0.224935</td>\n",
       "      <td>0.157902</td>\n",
       "      <td>6.7</td>\n",
       "      <td>1</td>\n",
       "      <td>0</td>\n",
       "    </tr>\n",
       "    <tr>\n",
       "      <th>1</th>\n",
       "      <td>2</td>\n",
       "      <td>T1</td>\n",
       "      <td>26.0</td>\n",
       "      <td>36.33</td>\n",
       "      <td>0.000000</td>\n",
       "      <td>0.727823</td>\n",
       "      <td>0.628124</td>\n",
       "      <td>0.339363</td>\n",
       "      <td>0.256596</td>\n",
       "      <td>0.174475</td>\n",
       "      <td>8.7</td>\n",
       "      <td>2</td>\n",
       "      <td>1</td>\n",
       "    </tr>\n",
       "    <tr>\n",
       "      <th>2</th>\n",
       "      <td>3</td>\n",
       "      <td>T1</td>\n",
       "      <td>26.7</td>\n",
       "      <td>36.33</td>\n",
       "      <td>0.048276</td>\n",
       "      <td>0.731136</td>\n",
       "      <td>0.633427</td>\n",
       "      <td>0.348855</td>\n",
       "      <td>0.272154</td>\n",
       "      <td>0.187457</td>\n",
       "      <td>6.0</td>\n",
       "      <td>0</td>\n",
       "      <td>0</td>\n",
       "    </tr>\n",
       "    <tr>\n",
       "      <th>3</th>\n",
       "      <td>4</td>\n",
       "      <td>T1</td>\n",
       "      <td>29.3</td>\n",
       "      <td>36.33</td>\n",
       "      <td>0.227586</td>\n",
       "      <td>0.705379</td>\n",
       "      <td>0.588299</td>\n",
       "      <td>0.368542</td>\n",
       "      <td>0.211414</td>\n",
       "      <td>0.142261</td>\n",
       "      <td>5.7</td>\n",
       "      <td>0</td>\n",
       "      <td>0</td>\n",
       "    </tr>\n",
       "    <tr>\n",
       "      <th>4</th>\n",
       "      <td>5</td>\n",
       "      <td>T1</td>\n",
       "      <td>29.0</td>\n",
       "      <td>36.33</td>\n",
       "      <td>0.206897</td>\n",
       "      <td>0.745715</td>\n",
       "      <td>0.642535</td>\n",
       "      <td>0.393172</td>\n",
       "      <td>0.275420</td>\n",
       "      <td>0.187919</td>\n",
       "      <td>5.2</td>\n",
       "      <td>0</td>\n",
       "      <td>0</td>\n",
       "    </tr>\n",
       "    <tr>\n",
       "      <th>...</th>\n",
       "      <td>...</td>\n",
       "      <td>...</td>\n",
       "      <td>...</td>\n",
       "      <td>...</td>\n",
       "      <td>...</td>\n",
       "      <td>...</td>\n",
       "      <td>...</td>\n",
       "      <td>...</td>\n",
       "      <td>...</td>\n",
       "      <td>...</td>\n",
       "      <td>...</td>\n",
       "      <td>...</td>\n",
       "      <td>...</td>\n",
       "    </tr>\n",
       "    <tr>\n",
       "      <th>121</th>\n",
       "      <td>14</td>\n",
       "      <td>T7</td>\n",
       "      <td>32.3</td>\n",
       "      <td>39.09</td>\n",
       "      <td>0.434483</td>\n",
       "      <td>0.651964</td>\n",
       "      <td>0.578798</td>\n",
       "      <td>0.306616</td>\n",
       "      <td>0.242141</td>\n",
       "      <td>0.172492</td>\n",
       "      <td>13.2</td>\n",
       "      <td>2</td>\n",
       "      <td>1</td>\n",
       "    </tr>\n",
       "    <tr>\n",
       "      <th>122</th>\n",
       "      <td>15</td>\n",
       "      <td>T7</td>\n",
       "      <td>36.4</td>\n",
       "      <td>39.09</td>\n",
       "      <td>0.717241</td>\n",
       "      <td>0.613730</td>\n",
       "      <td>0.552401</td>\n",
       "      <td>0.294611</td>\n",
       "      <td>0.227958</td>\n",
       "      <td>0.164832</td>\n",
       "      <td>11.3</td>\n",
       "      <td>2</td>\n",
       "      <td>1</td>\n",
       "    </tr>\n",
       "    <tr>\n",
       "      <th>123</th>\n",
       "      <td>16</td>\n",
       "      <td>T7</td>\n",
       "      <td>33.7</td>\n",
       "      <td>39.09</td>\n",
       "      <td>0.531034</td>\n",
       "      <td>0.675721</td>\n",
       "      <td>0.584211</td>\n",
       "      <td>0.332427</td>\n",
       "      <td>0.246689</td>\n",
       "      <td>0.173681</td>\n",
       "      <td>9.8</td>\n",
       "      <td>2</td>\n",
       "      <td>1</td>\n",
       "    </tr>\n",
       "    <tr>\n",
       "      <th>124</th>\n",
       "      <td>17</td>\n",
       "      <td>T7</td>\n",
       "      <td>33.9</td>\n",
       "      <td>39.09</td>\n",
       "      <td>0.544828</td>\n",
       "      <td>0.667222</td>\n",
       "      <td>0.585880</td>\n",
       "      <td>0.325666</td>\n",
       "      <td>0.247613</td>\n",
       "      <td>0.174950</td>\n",
       "      <td>8.5</td>\n",
       "      <td>1</td>\n",
       "      <td>1</td>\n",
       "    </tr>\n",
       "    <tr>\n",
       "      <th>125</th>\n",
       "      <td>18</td>\n",
       "      <td>T7</td>\n",
       "      <td>30.0</td>\n",
       "      <td>39.09</td>\n",
       "      <td>0.275862</td>\n",
       "      <td>0.692350</td>\n",
       "      <td>0.602217</td>\n",
       "      <td>0.333862</td>\n",
       "      <td>0.263517</td>\n",
       "      <td>0.185723</td>\n",
       "      <td>8.3</td>\n",
       "      <td>1</td>\n",
       "      <td>1</td>\n",
       "    </tr>\n",
       "  </tbody>\n",
       "</table>\n",
       "<p>126 rows × 13 columns</p>\n",
       "</div>"
      ],
      "text/plain": [
       "     tree_idx test_number  leaf_temp     Ta      cwsi  NDVI median  \\\n",
       "0           1          T1       28.0  36.33  0.137931     0.651247   \n",
       "1           2          T1       26.0  36.33  0.000000     0.727823   \n",
       "2           3          T1       26.7  36.33  0.048276     0.731136   \n",
       "3           4          T1       29.3  36.33  0.227586     0.705379   \n",
       "4           5          T1       29.0  36.33  0.206897     0.745715   \n",
       "..        ...         ...        ...    ...       ...          ...   \n",
       "121        14          T7       32.3  39.09  0.434483     0.651964   \n",
       "122        15          T7       36.4  39.09  0.717241     0.613730   \n",
       "123        16          T7       33.7  39.09  0.531034     0.675721   \n",
       "124        17          T7       33.9  39.09  0.544828     0.667222   \n",
       "125        18          T7       30.0  39.09  0.275862     0.692350   \n",
       "\n",
       "     GNDVI median  OSAVI median  LCI median  NDRE median   SWP  SWPc  SWPc2  \n",
       "0        0.579653      0.311467    0.224935     0.157902   6.7     1      0  \n",
       "1        0.628124      0.339363    0.256596     0.174475   8.7     2      1  \n",
       "2        0.633427      0.348855    0.272154     0.187457   6.0     0      0  \n",
       "3        0.588299      0.368542    0.211414     0.142261   5.7     0      0  \n",
       "4        0.642535      0.393172    0.275420     0.187919   5.2     0      0  \n",
       "..            ...           ...         ...          ...   ...   ...    ...  \n",
       "121      0.578798      0.306616    0.242141     0.172492  13.2     2      1  \n",
       "122      0.552401      0.294611    0.227958     0.164832  11.3     2      1  \n",
       "123      0.584211      0.332427    0.246689     0.173681   9.8     2      1  \n",
       "124      0.585880      0.325666    0.247613     0.174950   8.5     1      1  \n",
       "125      0.602217      0.333862    0.263517     0.185723   8.3     1      1  \n",
       "\n",
       "[126 rows x 13 columns]"
      ]
     },
     "execution_count": 1011,
     "metadata": {},
     "output_type": "execute_result"
    }
   ],
   "source": [
    "main"
   ]
  },
  {
   "cell_type": "code",
   "execution_count": 1012,
   "metadata": {},
   "outputs": [
    {
     "name": "stdout",
     "output_type": "stream",
     "text": [
      "SWPc \n",
      " 2    43\n",
      "0    42\n",
      "1    41\n",
      "Name: SWPc, dtype: int64\n"
     ]
    },
    {
     "data": {
      "text/plain": [
       "<AxesSubplot:xlabel='SWPc', ylabel='count'>"
      ]
     },
     "execution_count": 1012,
     "metadata": {},
     "output_type": "execute_result"
    },
    {
     "data": {
      "image/png": "[encoded data removed]",
      "text/plain": [
       "<Figure size 640x480 with 1 Axes>"
      ]
     },
     "metadata": {},
     "output_type": "display_data"
    }
   ],
   "source": [
    "print('SWPc \\n',main['SWPc'].value_counts())\n",
    "sns.countplot(x=main['SWPc'])"
   ]
  },
  {
   "cell_type": "code",
   "execution_count": 1013,
   "metadata": {},
   "outputs": [
    {
     "name": "stdout",
     "output_type": "stream",
     "text": [
      "\n",
      " SWPc2 \n",
      " 0    70\n",
      "1    56\n",
      "Name: SWPc2, dtype: int64\n"
     ]
    },
    {
     "data": {
      "text/plain": [
       "<AxesSubplot:xlabel='SWPc2', ylabel='count'>"
      ]
     },
     "execution_count": 1013,
     "metadata": {},
     "output_type": "execute_result"
    },
    {
     "data": {
      "image/png": "[encoded data removed]",
      "text/plain": [
       "<Figure size 640x480 with 1 Axes>"
      ]
     },
     "metadata": {},
     "output_type": "display_data"
    }
   ],
   "source": [
    "print('\\n SWPc2 \\n',main['SWPc2'].value_counts())\n",
    "sns.countplot(x=main['SWPc2'])"
   ]
  },
  {
   "cell_type": "code",
   "execution_count": 1014,
   "metadata": {},
   "outputs": [],
   "source": [
    "X = mdf.drop('SWP',axis=1)\n",
    "y = main['SWPc2']\n",
    "X_train, X_test, y_train, y_test = train_test_split(X, y, test_size = 0.3, \\\n",
    "                                                    random_state = 10)\n",
    "sc = StandardScaler()\n",
    "X_train = sc.fit_transform(X_train)\n",
    "X_test = sc.fit_transform(X_test)\n",
    "cv=10"
   ]
  },
  {
   "cell_type": "code",
   "execution_count": 1015,
   "metadata": {},
   "outputs": [
    {
     "name": "stdout",
     "output_type": "stream",
     "text": [
      "Random Forest accuracy:  0.7368421052631579\n",
      "              precision    recall  f1-score   support\n",
      "\n",
      "           0       0.67      0.82      0.74        17\n",
      "           1       0.82      0.67      0.74        21\n",
      "\n",
      "    accuracy                           0.74        38\n",
      "   macro avg       0.75      0.75      0.74        38\n",
      "weighted avg       0.75      0.74      0.74        38\n",
      "\n",
      "[[14  3]\n",
      " [ 7 14]]\n"
     ]
    }
   ],
   "source": [
    "rfc = RandomForestClassifier(n_estimators=250)\n",
    "rfc.fit(X_train, y_train)\n",
    "pred_rfc = rfc.predict(X_test)\n",
    "print('Random Forest accuracy: ',accuracy_score(y_test, pred_rfc))\n",
    "print(classification_report(y_test, pred_rfc))\n",
    "print(confusion_matrix(y_test, pred_rfc))"
   ]
  },
  {
   "cell_type": "code",
   "execution_count": 1016,
   "metadata": {},
   "outputs": [
    {
     "name": "stdout",
     "output_type": "stream",
     "text": [
      "SVM accuracy:  0.7631578947368421\n",
      "              precision    recall  f1-score   support\n",
      "\n",
      "           0       0.65      1.00      0.79        17\n",
      "           1       1.00      0.57      0.73        21\n",
      "\n",
      "    accuracy                           0.76        38\n",
      "   macro avg       0.83      0.79      0.76        38\n",
      "weighted avg       0.85      0.76      0.76        38\n",
      "\n",
      "[[17  0]\n",
      " [ 9 12]]\n"
     ]
    }
   ],
   "source": [
    "clf=SVC()\n",
    "clf.fit(X_train,y_train)\n",
    "pred_clf = clf.predict(X_test)\n",
    "print('SVM accuracy: ',accuracy_score(y_test, pred_clf))\n",
    "print(classification_report(y_test, pred_clf))\n",
    "print(confusion_matrix(y_test, pred_clf))"
   ]
  },
  {
   "cell_type": "code",
   "execution_count": 1017,
   "metadata": {},
   "outputs": [
    {
     "name": "stdout",
     "output_type": "stream",
     "text": [
      "DT accuracy:  0.7368421052631579\n",
      "              precision    recall  f1-score   support\n",
      "\n",
      "           0       0.64      0.94      0.76        17\n",
      "           1       0.92      0.57      0.71        21\n",
      "\n",
      "    accuracy                           0.74        38\n",
      "   macro avg       0.78      0.76      0.73        38\n",
      "weighted avg       0.80      0.74      0.73        38\n",
      "\n",
      "[[16  1]\n",
      " [ 9 12]]\n"
     ]
    }
   ],
   "source": [
    "gnb= GaussianNB()\n",
    "gnb.fit(X_train,y_train)\n",
    "pred_gnb = gnb.predict(X_test)\n",
    "print('DT accuracy: ',accuracy_score(y_test, pred_gnb))\n",
    "print(classification_report(y_test, pred_gnb))\n",
    "print(confusion_matrix(y_test, pred_gnb))"
   ]
  },
  {
   "cell_type": "code",
   "execution_count": 1018,
   "metadata": {},
   "outputs": [
    {
     "name": "stdout",
     "output_type": "stream",
     "text": [
      "DT accuracy:  0.631578947368421\n",
      "              precision    recall  f1-score   support\n",
      "\n",
      "           0       0.57      0.76      0.65        17\n",
      "           1       0.73      0.52      0.61        21\n",
      "\n",
      "    accuracy                           0.63        38\n",
      "   macro avg       0.65      0.64      0.63        38\n",
      "weighted avg       0.66      0.63      0.63        38\n",
      "\n",
      "[[13  4]\n",
      " [10 11]]\n"
     ]
    }
   ],
   "source": [
    "dt= tree.DecisionTreeClassifier()\n",
    "dt.fit(X_train,y_train)\n",
    "pred_dt = dt.predict(X_test)\n",
    "print('DT accuracy: ',accuracy_score(y_test, pred_dt))\n",
    "print(classification_report(y_test, pred_dt))\n",
    "print(confusion_matrix(y_test, pred_dt))"
   ]
  },
  {
   "cell_type": "code",
   "execution_count": 1019,
   "metadata": {},
   "outputs": [
    {
     "name": "stdout",
     "output_type": "stream",
     "text": [
      "KNN accuracy:  0.7368421052631579\n",
      "              precision    recall  f1-score   support\n",
      "\n",
      "           0       0.67      0.82      0.74        17\n",
      "           1       0.82      0.67      0.74        21\n",
      "\n",
      "    accuracy                           0.74        38\n",
      "   macro avg       0.75      0.75      0.74        38\n",
      "weighted avg       0.75      0.74      0.74        38\n",
      "\n",
      "[[14  3]\n",
      " [ 7 14]]\n"
     ]
    }
   ],
   "source": [
    "knn= KNeighborsClassifier(n_neighbors=3)\n",
    "knn.fit(X_train,y_train)\n",
    "pred_knn = knn.predict(X_test)\n",
    "print('KNN accuracy: ',accuracy_score(y_test, pred_knn))\n",
    "print(classification_report(y_test, pred_knn))\n",
    "print(confusion_matrix(y_test, pred_knn))"
   ]
  },
  {
   "cell_type": "code",
   "execution_count": 1032,
   "metadata": {},
   "outputs": [
    {
     "name": "stdout",
     "output_type": "stream",
     "text": [
      "Neural Network accuracy:  0.7631578947368421\n",
      "              precision    recall  f1-score   support\n",
      "\n",
      "           0       0.67      0.94      0.78        17\n",
      "           1       0.93      0.62      0.74        21\n",
      "\n",
      "    accuracy                           0.76        38\n",
      "   macro avg       0.80      0.78      0.76        38\n",
      "weighted avg       0.81      0.76      0.76        38\n",
      "\n",
      "[[16  1]\n",
      " [ 8 13]]\n"
     ]
    }
   ],
   "source": [
    "mlpc= MLPClassifier(hidden_layer_sizes=(15,10,15),max_iter=2000)\n",
    "mlpc.fit(X_train,y_train)\n",
    "pred_mlpc = mlpc.predict(X_test)\n",
    "print('Neural Network accuracy: ',accuracy_score(y_test, pred_mlpc))\n",
    "print(classification_report(y_test, pred_mlpc))\n",
    "print(confusion_matrix(y_test, pred_mlpc))"
   ]
  },
  {
   "cell_type": "code",
   "execution_count": 1033,
   "metadata": {},
   "outputs": [],
   "source": [
    "cval_rf = np.array(cross_val_score(rfc, X, y, cv=cv))\n",
    "cval_svc = np.array(cross_val_score(clf, X, y, cv=cv))\n",
    "cval_gnb = np.array(cross_val_score(gnb, X, y, cv=cv))\n",
    "cval_dt = np.array(cross_val_score(dt, X, y, cv=cv))\n",
    "cval_knn = np.array(cross_val_score(knn, X, y, cv=cv))\n",
    "cval_nn = np.array(cross_val_score(mlpc, X, y, cv=cv))"
   ]
  },
  {
   "cell_type": "code",
   "execution_count": 1034,
   "metadata": {},
   "outputs": [],
   "source": [
    "\n",
    "# print('\\n',cval_rf,'\\n \\n',cval_rf.mean(),cval_rf.max(),cval_rf.std())\n",
    "# print('\\n',cval_svc,'\\n \\n',cval_svc.mean(),cval_svc.max(),cval_svc.std())\n",
    "# print('\\n',cval_knn,'\\n \\n',cval_knn.mean(),cval_knn.max(),cval_knn.std())\n",
    "# print('\\n',cval_nn,'\\n \\n',cval_nn.mean(),cval_nn.max(),cval_nn.std())"
   ]
  },
  {
   "cell_type": "code",
   "execution_count": 1035,
   "metadata": {},
   "outputs": [
    {
     "data": {
      "image/png": "[encoded data removed]",
      "text/plain": [
       "<Figure size 640x480 with 1 Axes>"
      ]
     },
     "metadata": {},
     "output_type": "display_data"
    }
   ],
   "source": [
    "data = [cval_rf,cval_svc,cval_gnb,cval_dt,cval_knn,cval_nn]\n",
    "plt.boxplot(data)\n",
    "plt.xticks([1, 2, 3, 4, 5, 6],['RandomForest','SVM','GaussianNB','DT','KNN','NN'])\n",
    "plt.ylabel('accuracy score')\n",
    "plt.title('Accuracy score with cross validation = ' + str(cv))\n",
    "plt.show()"
   ]
  },
  {
   "attachments": {},
   "cell_type": "markdown",
   "metadata": {},
   "source": [
    "Optimized Hyperparameters\n"
   ]
  },
  {
   "cell_type": "markdown",
   "metadata": {},
   "source": []
  }
 ],
 "metadata": {
  "kernelspec": {
   "display_name": "Python 3",
   "language": "python",
   "name": "python3"
  },
  "language_info": {
   "codemirror_mode": {
    "name": "ipython",
    "version": 3
   },
   "file_extension": ".py",
   "mimetype": "text/x-python",
   "name": "python",
   "nbconvert_exporter": "python",
   "pygments_lexer": "ipython3",
   "version": "3.10.5"
  },
  "orig_nbformat": 4
 },
 "nbformat": 4,
 "nbformat_minor": 2
}
